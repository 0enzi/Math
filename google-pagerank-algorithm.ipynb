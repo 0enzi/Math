{
 "cells": [
  {
   "cell_type": "markdown",
   "id": "394a8019",
   "metadata": {
    "papermill": {
     "duration": 0.005439,
     "end_time": "2023-10-04T13:27:37.710828",
     "exception": false,
     "start_time": "2023-10-04T13:27:37.705389",
     "status": "completed"
    },
    "tags": []
   },
   "source": [
    "# Googλe Pagerank Algo"
   ]
  },
  {
   "cell_type": "code",
   "execution_count": 1,
   "id": "09828aef",
   "metadata": {
    "_cell_guid": "b1076dfc-b9ad-4769-8c92-a6c4dae69d19",
    "_uuid": "8f2839f25d086af736a60e9eeb907d3b93b6e0e5",
    "execution": {
     "iopub.execute_input": "2023-10-04T13:27:37.723122Z",
     "iopub.status.busy": "2023-10-04T13:27:37.720808Z",
     "iopub.status.idle": "2023-10-04T13:27:38.085522Z",
     "shell.execute_reply": "2023-10-04T13:27:38.084630Z"
    },
    "papermill": {
     "duration": 0.372365,
     "end_time": "2023-10-04T13:27:38.087297",
     "exception": false,
     "start_time": "2023-10-04T13:27:37.714932",
     "status": "completed"
    },
    "tags": []
   },
   "outputs": [
    {
     "name": "stdout",
     "output_type": "stream",
     "text": [
      "/kaggle/input/img-pages/pages.png\n"
     ]
    }
   ],
   "source": [
    "import numpy as np\n",
    "import pandas as pd \n",
    "import os\n",
    "for dirname, _, filenames in os.walk('/kaggle/input'):\n",
    "    for filename in filenames:\n",
    "        print(os.path.join(dirname, filename))"
   ]
  },
  {
   "cell_type": "markdown",
   "id": "314dc0ed",
   "metadata": {
    "papermill": {
     "duration": 0.004828,
     "end_time": "2023-10-04T13:27:38.096484",
     "exception": false,
     "start_time": "2023-10-04T13:27:38.091656",
     "status": "completed"
    },
    "tags": []
   },
   "source": [
    "# We begin our journey with 5 sites linked together as shown below that we want to rank by their importance"
   ]
  },
  {
   "cell_type": "markdown",
   "id": "9ae78fa5",
   "metadata": {
    "papermill": {
     "duration": 0.004905,
     "end_time": "2023-10-04T13:27:38.105805",
     "exception": false,
     "start_time": "2023-10-04T13:27:38.100900",
     "status": "completed"
    },
    "tags": []
   },
   "source": [
    "![Websites](https://cdn.discordapp.com/attachments/1138429642211086346/1159085935712022538/image_2023-10-04_131225064-removebg-preview.png?ex=651e9a65&is=651d48e5&hm=2b6880d3d4a8c3ceccfcec40ec213ab7e63a6f3dc9a721af806f73e8af7bd0ad&)"
   ]
  },
  {
   "cell_type": "markdown",
   "id": "ce9d4665",
   "metadata": {
    "papermill": {
     "duration": 0.004709,
     "end_time": "2023-10-04T13:27:38.114520",
     "exception": false,
     "start_time": "2023-10-04T13:27:38.109811",
     "status": "completed"
    },
    "tags": []
   },
   "source": [
    "A=1/2\n",
    "\n",
    "B=1/4\n",
    "\n",
    "C=1\n",
    "\n",
    "D=1/2\n",
    "\n",
    "E=1/3\n"
   ]
  },
  {
   "cell_type": "markdown",
   "id": "e1c9dcb7",
   "metadata": {
    "papermill": {
     "duration": 0.003769,
     "end_time": "2023-10-04T13:27:38.122884",
     "exception": false,
     "start_time": "2023-10-04T13:27:38.119115",
     "status": "completed"
    },
    "tags": []
   },
   "source": [
    "$$A= \\begin{pmatrix}\n",
    "0 &   1/4 & 1& 1/2 & 1/3\\\\\n",
    "1/2&  0 &   0 &  0 &      1/3\\\\\n",
    "1/2&  1/4 & 0 &  1/2 &   0\\\\\n",
    "0 &   1/4 & 0 &  0        &1/3\\\\\n",
    "0 &   1/4 & 0 & 0 & 0\\\\\n",
    "\\end{pmatrix}$$"
   ]
  },
  {
   "cell_type": "markdown",
   "id": "791b51f3",
   "metadata": {
    "papermill": {
     "duration": 0.003665,
     "end_time": "2023-10-04T13:27:38.131528",
     "exception": false,
     "start_time": "2023-10-04T13:27:38.127863",
     "status": "completed"
    },
    "tags": []
   },
   "source": []
  },
  {
   "cell_type": "markdown",
   "id": "2a724421",
   "metadata": {
    "papermill": {
     "duration": 0.005992,
     "end_time": "2023-10-04T13:27:38.141436",
     "exception": false,
     "start_time": "2023-10-04T13:27:38.135444",
     "status": "completed"
    },
    "tags": []
   },
   "source": []
  },
  {
   "cell_type": "markdown",
   "id": "523b3681",
   "metadata": {
    "papermill": {
     "duration": 0.003816,
     "end_time": "2023-10-04T13:27:38.150648",
     "exception": false,
     "start_time": "2023-10-04T13:27:38.146832",
     "status": "completed"
    },
    "tags": []
   },
   "source": [
    "# At first the sites will be ranked equally like so with a vector r\n",
    "$$r_0 = \\begin{pmatrix}\n",
    ".2\\\\\n",
    ".2\\\\\n",
    ".2\\\\\n",
    ".2\\\\\n",
    ".2\\\\\n",
    "\\end{pmatrix}$$"
   ]
  },
  {
   "cell_type": "markdown",
   "id": "80391eab",
   "metadata": {
    "papermill": {
     "duration": 0.003901,
     "end_time": "2023-10-04T13:27:38.159541",
     "exception": false,
     "start_time": "2023-10-04T13:27:38.155640",
     "status": "completed"
    },
    "tags": []
   },
   "source": [
    "# We'll then derive a transition matrix A based on the probabilies of the 5 websites\n"
   ]
  },
  {
   "cell_type": "markdown",
   "id": "8af013c0",
   "metadata": {
    "papermill": {
     "duration": 0.005243,
     "end_time": "2023-10-04T13:27:38.168966",
     "exception": false,
     "start_time": "2023-10-04T13:27:38.163723",
     "status": "completed"
    },
    "tags": []
   },
   "source": [
    "$$A= \\begin{pmatrix}\n",
    "0 &  1/4 & 0 & 1/3\\\\\n",
    "1/2& 0 & 0 & 1/3\\\\\n",
    "1/2& 1/4 & 0 & 0\\\\\n",
    "0 & 1/4 & 1 &1/3\\\\\n",
    "0 & 1/4 & 0 & 0\\\\\n",
    "\\end{pmatrix}$$"
   ]
  },
  {
   "cell_type": "code",
   "execution_count": 2,
   "id": "683fdd18",
   "metadata": {
    "execution": {
     "iopub.execute_input": "2023-10-04T13:27:38.181265Z",
     "iopub.status.busy": "2023-10-04T13:27:38.180581Z",
     "iopub.status.idle": "2023-10-04T13:27:38.195603Z",
     "shell.execute_reply": "2023-10-04T13:27:38.194649Z"
    },
    "papermill": {
     "duration": 0.023599,
     "end_time": "2023-10-04T13:27:38.198127",
     "exception": false,
     "start_time": "2023-10-04T13:27:38.174528",
     "status": "completed"
    },
    "tags": []
   },
   "outputs": [
    {
     "data": {
      "text/plain": [
       "(array([[0.        , 0.25      , 1.        , 0.5       , 0.33333333],\n",
       "        [0.5       , 0.        , 0.        , 0.        , 0.33333333],\n",
       "        [0.5       , 0.25      , 0.        , 0.5       , 0.        ],\n",
       "        [0.        , 0.25      , 0.        , 0.        , 0.33333333],\n",
       "        [0.        , 0.25      , 0.        , 0.        , 0.        ]]),\n",
       " array([0.2, 0.2, 0.2, 0.2, 0.2]))"
      ]
     },
     "execution_count": 2,
     "metadata": {},
     "output_type": "execute_result"
    }
   ],
   "source": [
    "# transition matrix\n",
    "A = np.array([\n",
    "[0 ,   1/4 , 1, 1/2 , 1/3],\n",
    "[1/2,  0 ,   0 ,  0 ,      1/3],\n",
    "[1/2,  1/4 , 0 ,  1/2 ,   0],\n",
    "[0 ,   1/4 , 0 ,  0        ,1/3],\n",
    "[0 ,   1/4 , 0 , 0 , 0]\n",
    "])\n",
    "\n",
    "r0 = np.array([.2, .2, .2, .2, .2])\n",
    "\n",
    "A, r0"
   ]
  },
  {
   "cell_type": "markdown",
   "id": "de369e97",
   "metadata": {
    "papermill": {
     "duration": 0.005157,
     "end_time": "2023-10-04T13:27:38.210237",
     "exception": false,
     "start_time": "2023-10-04T13:27:38.205080",
     "status": "completed"
    },
    "tags": []
   },
   "source": [
    "# Then to get the rankings you multiply r with A\n",
    "\n",
    "$$r_1 = Ar_0$$\n",
    "$$r_2 = Ar_1 = AAr_0 = A^2r_0$$\n",
    "$$r_3 =  A^3r_0$$\n",
    "\n",
    "and so on until\n",
    "$$r_{\\infty} = A^{\\infty}v_0$$"
   ]
  },
  {
   "cell_type": "code",
   "execution_count": 3,
   "id": "022ced25",
   "metadata": {
    "execution": {
     "iopub.execute_input": "2023-10-04T13:27:38.226926Z",
     "iopub.status.busy": "2023-10-04T13:27:38.226300Z",
     "iopub.status.idle": "2023-10-04T13:27:38.235250Z",
     "shell.execute_reply": "2023-10-04T13:27:38.233788Z"
    },
    "papermill": {
     "duration": 0.019226,
     "end_time": "2023-10-04T13:27:38.237880",
     "exception": false,
     "start_time": "2023-10-04T13:27:38.218654",
     "status": "completed"
    },
    "tags": []
   },
   "outputs": [],
   "source": [
    "r1 = np.matmul(A, r0)\n",
    "r2 = np.matmul(A, r1)\n",
    "# ....\n",
    "# r_inf = np.matmul(A, r_inf-1) doesnt work ofc dont try it :trolled:"
   ]
  },
  {
   "cell_type": "markdown",
   "id": "8646d536",
   "metadata": {
    "papermill": {
     "duration": 0.005172,
     "end_time": "2023-10-04T13:27:38.247970",
     "exception": false,
     "start_time": "2023-10-04T13:27:38.242798",
     "status": "completed"
    },
    "tags": []
   },
   "source": [
    "# How would we get $A^{\\infty}$ you ask\n",
    "# wit diagonalisationn"
   ]
  },
  {
   "cell_type": "markdown",
   "id": "86016dcc",
   "metadata": {
    "papermill": {
     "duration": 0.004364,
     "end_time": "2023-10-04T13:27:38.257356",
     "exception": false,
     "start_time": "2023-10-04T13:27:38.252992",
     "status": "completed"
    },
    "tags": []
   },
   "source": [
    "Like so\n",
    "$$A = S \\Lambda S^{-1}$$\n",
    "which would give us\n",
    "$$A^{2} = S \\Lambda (S^{-1} S) \\Lambda S^{-1} = S \\Lambda^{2} S^-1$$\n",
    "\n",
    "so\n",
    "$$A^{\\infty} = S \\Lambda^{\\infty} S^{-1}$$\n",
    "\n",
    "and we have to do is get $Λ^{\\infty}$"
   ]
  },
  {
   "cell_type": "code",
   "execution_count": 4,
   "id": "c0b42d95",
   "metadata": {
    "execution": {
     "iopub.execute_input": "2023-10-04T13:27:38.274693Z",
     "iopub.status.busy": "2023-10-04T13:27:38.272303Z",
     "iopub.status.idle": "2023-10-04T13:27:38.320902Z",
     "shell.execute_reply": "2023-10-04T13:27:38.319717Z"
    },
    "papermill": {
     "duration": 0.060682,
     "end_time": "2023-10-04T13:27:38.324144",
     "exception": false,
     "start_time": "2023-10-04T13:27:38.263462",
     "status": "completed"
    },
    "tags": []
   },
   "outputs": [
    {
     "name": "stdout",
     "output_type": "stream",
     "text": [
      "eigenvalues: [ 1.        +0.j         -0.55885384+0.j         -0.5       +0.j\n",
      "  0.02942692+0.27146163j  0.02942692-0.27146163j] \n",
      "\n",
      "eigenvector matrix [[-0.72969394+0.j         -0.56490674+0.j         -0.49236596+0.j\n",
      "   0.34467786+0.30135262j  0.34467786-0.30135262j]\n",
      " [-0.39801488+0.j          0.68934929+0.j          0.73854895+0.j\n",
      "   0.26028638-0.30135262j  0.26028638+0.30135262j]\n",
      " [-0.5306865 +0.j          0.30837638+0.j          0.24618298+0.j\n",
      "   0.24862149+0.26665927j  0.24862149-0.26665927j]\n",
      " [-0.13267163+0.j         -0.12444255+0.j         -0.12309149+0.j\n",
      "  -0.60496425+0.j         -0.60496425-0.j        ]\n",
      " [-0.09950372+0.j         -0.30837638+0.j         -0.36927447+0.j\n",
      "  -0.24862149-0.26665927j -0.24862149+0.26665927j]] \n",
      "\n",
      "eigenvector matrix inverse [[-5.28940822e-01-4.82303680e-18j -5.28940822e-01+8.26504749e-17j\n",
      "  -5.28940822e-01-4.91291966e-19j -5.28940822e-01+9.28545370e-17j\n",
      "  -5.28940822e-01+5.87674154e-18j]\n",
      " [-3.28729204e+00+4.35618724e-17j -2.20797202e+00+2.89196924e-16j\n",
      "   5.88220356e+00-3.46671641e-16j -2.32163703e+00-1.21243908e-15j\n",
      "   4.66246005e+00+3.39715219e-16j]\n",
      " [ 2.70801280e+00-5.69250326e-17j  2.70801280e+00-3.41550195e-16j\n",
      "  -5.41602560e+00+3.98475228e-16j  2.70801280e+00+1.36620078e-15j\n",
      "  -5.41602560e+00-3.98475228e-16j]\n",
      " [ 1.20603084e-01-1.19736225e-02j  9.59376795e-03+5.08612426e-01j\n",
      "   4.00494457e-03-4.43838900e-01j -8.05210780e-01-3.16799420e-01j\n",
      "   1.29456980e-01+8.42896888e-01j]\n",
      " [ 1.20603084e-01+1.19736225e-02j  9.59376795e-03-5.08612426e-01j\n",
      "   4.00494457e-03+4.43838900e-01j -8.05210780e-01+3.16799420e-01j\n",
      "   1.29456980e-01-8.42896888e-01j]]\n"
     ]
    }
   ],
   "source": [
    "# We then get our eigenvalues and eigenvectors\n",
    "λ,S = np.linalg.eig(A) \n",
    "S_inv = np.linalg.inv(S)\n",
    "\n",
    "print(\"eigenvalues:\", λ, \"\\n\")\n",
    "print(\"eigenvector matrix\", S, \"\\n\")\n",
    "print(\"eigenvector matrix inverse\", S_inv)"
   ]
  },
  {
   "cell_type": "code",
   "execution_count": 5,
   "id": "d56b8a4c",
   "metadata": {
    "execution": {
     "iopub.execute_input": "2023-10-04T13:27:38.341068Z",
     "iopub.status.busy": "2023-10-04T13:27:38.340767Z",
     "iopub.status.idle": "2023-10-04T13:27:38.350373Z",
     "shell.execute_reply": "2023-10-04T13:27:38.347385Z"
    },
    "papermill": {
     "duration": 0.024948,
     "end_time": "2023-10-04T13:27:38.355544",
     "exception": false,
     "start_time": "2023-10-04T13:27:38.330596",
     "status": "completed"
    },
    "tags": []
   },
   "outputs": [
    {
     "data": {
      "text/plain": [
       "array([[ 1.        +0.j        ,  0.        +0.j        ,\n",
       "         0.        +0.j        ,  0.        +0.j        ,\n",
       "         0.        +0.j        ],\n",
       "       [ 0.        +0.j        , -0.55885384+0.j        ,\n",
       "         0.        +0.j        ,  0.        +0.j        ,\n",
       "         0.        +0.j        ],\n",
       "       [ 0.        +0.j        ,  0.        +0.j        ,\n",
       "        -0.5       +0.j        ,  0.        +0.j        ,\n",
       "         0.        +0.j        ],\n",
       "       [ 0.        +0.j        ,  0.        +0.j        ,\n",
       "         0.        +0.j        ,  0.02942692+0.27146163j,\n",
       "         0.        +0.j        ],\n",
       "       [ 0.        +0.j        ,  0.        +0.j        ,\n",
       "         0.        +0.j        ,  0.        +0.j        ,\n",
       "         0.02942692-0.27146163j]])"
      ]
     },
     "execution_count": 5,
     "metadata": {},
     "output_type": "execute_result"
    }
   ],
   "source": [
    "Λ = np.diag(λ)\n",
    "Λ"
   ]
  },
  {
   "cell_type": "markdown",
   "id": "ad554763",
   "metadata": {
    "papermill": {
     "duration": 0.009389,
     "end_time": "2023-10-04T13:27:38.372579",
     "exception": false,
     "start_time": "2023-10-04T13:27:38.363190",
     "status": "completed"
    },
    "tags": []
   },
   "source": []
  },
  {
   "cell_type": "code",
   "execution_count": 6,
   "id": "19654d09",
   "metadata": {
    "execution": {
     "iopub.execute_input": "2023-10-04T13:27:38.393125Z",
     "iopub.status.busy": "2023-10-04T13:27:38.392095Z",
     "iopub.status.idle": "2023-10-04T13:27:38.404911Z",
     "shell.execute_reply": "2023-10-04T13:27:38.403444Z"
    },
    "papermill": {
     "duration": 0.026673,
     "end_time": "2023-10-04T13:27:38.407350",
     "exception": false,
     "start_time": "2023-10-04T13:27:38.380677",
     "status": "completed"
    },
    "tags": []
   },
   "outputs": [
    {
     "data": {
      "text/plain": [
       "(-7.72320103186413e-18-0.06956441057842146j)"
      ]
     },
     "execution_count": 6,
     "metadata": {},
     "output_type": "execute_result"
    }
   ],
   "source": [
    "# Now to test if its diagonalisable to begin with :monke:\n",
    "np.linalg.det(S) # niccc det≠0"
   ]
  },
  {
   "cell_type": "code",
   "execution_count": 7,
   "id": "8c9d68d6",
   "metadata": {
    "execution": {
     "iopub.execute_input": "2023-10-04T13:27:38.431394Z",
     "iopub.status.busy": "2023-10-04T13:27:38.430868Z",
     "iopub.status.idle": "2023-10-04T13:27:38.440371Z",
     "shell.execute_reply": "2023-10-04T13:27:38.439371Z"
    },
    "papermill": {
     "duration": 0.021348,
     "end_time": "2023-10-04T13:27:38.443872",
     "exception": false,
     "start_time": "2023-10-04T13:27:38.422524",
     "status": "completed"
    },
    "tags": []
   },
   "outputs": [
    {
     "name": "stdout",
     "output_type": "stream",
     "text": [
      "Expecting: [[0.         0.25       1.         0.5        0.33333333]\n",
      " [0.5        0.         0.         0.         0.33333333]\n",
      " [0.5        0.25       0.         0.5        0.        ]\n",
      " [0.         0.25       0.         0.         0.33333333]\n",
      " [0.         0.25       0.         0.         0.        ]] \n",
      "\n",
      "Got : [[ 0.        +0.j  0.25      -0.j  1.        +0.j  0.5       -0.j\n",
      "   0.33333333-0.j]\n",
      " [ 0.5       +0.j  0.        -0.j -0.        +0.j -0.        +0.j\n",
      "   0.33333333+0.j]\n",
      " [ 0.5       +0.j  0.25      -0.j  0.        +0.j  0.5       +0.j\n",
      "  -0.        +0.j]\n",
      " [ 0.        +0.j  0.25      -0.j -0.        +0.j -0.        +0.j\n",
      "   0.33333333+0.j]\n",
      " [-0.        +0.j  0.25      -0.j  0.        +0.j  0.        +0.j\n",
      "  -0.        +0.j]]\n"
     ]
    }
   ],
   "source": [
    "# and final test\n",
    "def round(values, decs=0): \n",
    "  return np.round(values*10**decs)/(10**decs)\n",
    "\n",
    "\n",
    "A_test = np.dot(S,np.dot(Λ, S_inv))\n",
    "\n",
    "\n",
    "print(\"Expecting:\", A, \"\\n\")\n",
    "print(\"Got :\", round(A_test, decs=10)) # lesssgooooooo"
   ]
  },
  {
   "cell_type": "markdown",
   "id": "4277cff8",
   "metadata": {
    "papermill": {
     "duration": 0.006807,
     "end_time": "2023-10-04T13:27:38.456386",
     "exception": false,
     "start_time": "2023-10-04T13:27:38.449579",
     "status": "completed"
    },
    "tags": []
   },
   "source": []
  },
  {
   "cell_type": "markdown",
   "id": "fcbf9945",
   "metadata": {
    "papermill": {
     "duration": 0.005523,
     "end_time": "2023-10-04T13:27:38.468225",
     "exception": false,
     "start_time": "2023-10-04T13:27:38.462702",
     "status": "completed"
    },
    "tags": []
   },
   "source": [
    "from this we get\n",
    "$$Λ = \\begin{pmatrix}\n",
    "1.  &  0 & 0 &  0 &0\\\\\n",
    " & -0.55885384+0.j & 0 &  0 & 0\\\\\n",
    " &  0 & -0.5+0.j &  0 & 0 \\\\\n",
    "0 &  0 & 0 &  0.02942692+0.27146163j & 0 \\\\\n",
    "0 &  0 & 0 &  0 & 0.02942692-0.27146163j \\\\\n",
    "\\end{pmatrix}$$\n",
    "\n",
    "and as we approach infinity the other eigenvalues approach zero like so\n",
    "from this we get\n",
    "$$Λ^{\\infty} = \\begin{pmatrix}\n",
    "1.  &  0 & 0 &  0 &0\\\\\n",
    "0 & 0 & 0 &  0 & 0\\\\\n",
    "0 &  0 & 0 &  0 & 0 \\\\\n",
    "0 &  0 & 0 &  0 & 0 \\\\\n",
    "0 &  0 & 0 &  0 & 0\\\\\n",
    "\\end{pmatrix}$$"
   ]
  },
  {
   "cell_type": "markdown",
   "id": "6f9c2524",
   "metadata": {
    "papermill": {
     "duration": 0.004296,
     "end_time": "2023-10-04T13:27:38.478555",
     "exception": false,
     "start_time": "2023-10-04T13:27:38.474259",
     "status": "completed"
    },
    "tags": []
   },
   "source": [
    "recall \n",
    "$$r_{\\infty} = A^{\\infty}v_0$$\n",
    "$$= S Λ^{\\infty}S^{-1}v_0$$"
   ]
  },
  {
   "cell_type": "markdown",
   "id": "fb463ee9",
   "metadata": {
    "papermill": {
     "duration": 0.004075,
     "end_time": "2023-10-04T13:27:38.487100",
     "exception": false,
     "start_time": "2023-10-04T13:27:38.483025",
     "status": "completed"
    },
    "tags": []
   },
   "source": []
  },
  {
   "cell_type": "code",
   "execution_count": 8,
   "id": "506bf11c",
   "metadata": {
    "execution": {
     "iopub.execute_input": "2023-10-04T13:27:38.498729Z",
     "iopub.status.busy": "2023-10-04T13:27:38.498284Z",
     "iopub.status.idle": "2023-10-04T13:27:38.503473Z",
     "shell.execute_reply": "2023-10-04T13:27:38.501992Z"
    },
    "papermill": {
     "duration": 0.014625,
     "end_time": "2023-10-04T13:27:38.505862",
     "exception": false,
     "start_time": "2023-10-04T13:27:38.491237",
     "status": "completed"
    },
    "tags": []
   },
   "outputs": [],
   "source": [
    "Λ_inf = np.array([\n",
    "[1.  ,  0 , 0 ,  0 ,0],\n",
    "[0 , 0 , 0 ,  0 , 0],\n",
    "[0 ,  0 , 0 ,  0 , 0 ],\n",
    "[0 ,  0 , 0 ,  0 , 0 ],\n",
    "[0 ,  0 , 0 ,  0 , 0]]\n",
    ")"
   ]
  },
  {
   "cell_type": "code",
   "execution_count": 9,
   "id": "2524ec87",
   "metadata": {
    "execution": {
     "iopub.execute_input": "2023-10-04T13:27:38.518097Z",
     "iopub.status.busy": "2023-10-04T13:27:38.517806Z",
     "iopub.status.idle": "2023-10-04T13:27:38.524178Z",
     "shell.execute_reply": "2023-10-04T13:27:38.522221Z"
    },
    "papermill": {
     "duration": 0.015747,
     "end_time": "2023-10-04T13:27:38.526700",
     "exception": false,
     "start_time": "2023-10-04T13:27:38.510953",
     "status": "completed"
    },
    "tags": []
   },
   "outputs": [],
   "source": [
    "r_inf = S@Λ_inf@S_inv@r0\n"
   ]
  },
  {
   "cell_type": "markdown",
   "id": "7cdf180f",
   "metadata": {
    "papermill": {
     "duration": 0.00382,
     "end_time": "2023-10-04T13:27:38.535545",
     "exception": false,
     "start_time": "2023-10-04T13:27:38.531725",
     "status": "completed"
    },
    "tags": []
   },
   "source": [
    "# Final Ranking is as follows"
   ]
  },
  {
   "cell_type": "code",
   "execution_count": 10,
   "id": "50b46e2e",
   "metadata": {
    "execution": {
     "iopub.execute_input": "2023-10-04T13:27:38.550541Z",
     "iopub.status.busy": "2023-10-04T13:27:38.548981Z",
     "iopub.status.idle": "2023-10-04T13:27:38.559267Z",
     "shell.execute_reply": "2023-10-04T13:27:38.557757Z"
    },
    "papermill": {
     "duration": 0.021606,
     "end_time": "2023-10-04T13:27:38.562193",
     "exception": false,
     "start_time": "2023-10-04T13:27:38.540587",
     "status": "completed"
    },
    "tags": []
   },
   "outputs": [
    {
     "name": "stdout",
     "output_type": "stream",
     "text": [
      "5 < 4 < 2 < 3 < 1\n"
     ]
    }
   ],
   "source": [
    "sort_order= np.argsort(r_inf)+1\n",
    "order = [str(index) for index in sort_order]\n",
    "print(\" < \".join(order))"
   ]
  },
  {
   "cell_type": "code",
   "execution_count": null,
   "id": "68a001ab",
   "metadata": {
    "papermill": {
     "duration": 0.004102,
     "end_time": "2023-10-04T13:27:38.571146",
     "exception": false,
     "start_time": "2023-10-04T13:27:38.567044",
     "status": "completed"
    },
    "tags": []
   },
   "outputs": [],
   "source": []
  }
 ],
 "metadata": {
  "kernelspec": {
   "display_name": "Python 3",
   "language": "python",
   "name": "python3"
  },
  "language_info": {
   "codemirror_mode": {
    "name": "ipython",
    "version": 3
   },
   "file_extension": ".py",
   "mimetype": "text/x-python",
   "name": "python",
   "nbconvert_exporter": "python",
   "pygments_lexer": "ipython3",
   "version": "3.10.12"
  },
  "papermill": {
   "default_parameters": {},
   "duration": 4.412905,
   "end_time": "2023-10-04T13:27:39.098101",
   "environment_variables": {},
   "exception": null,
   "input_path": "__notebook__.ipynb",
   "output_path": "__notebook__.ipynb",
   "parameters": {},
   "start_time": "2023-10-04T13:27:34.685196",
   "version": "2.4.0"
  }
 },
 "nbformat": 4,
 "nbformat_minor": 5
}
